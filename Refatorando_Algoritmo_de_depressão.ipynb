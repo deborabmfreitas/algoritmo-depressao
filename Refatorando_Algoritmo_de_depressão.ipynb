{
  "nbformat": 4,
  "nbformat_minor": 0,
  "metadata": {
    "colab": {
      "provenance": [],
      "authorship_tag": "ABX9TyOIbQfxq/kLgdpQeU1KoJKU",
      "include_colab_link": true
    },
    "kernelspec": {
      "name": "python3",
      "display_name": "Python 3"
    },
    "language_info": {
      "name": "python"
    }
  },
  "cells": [
    {
      "cell_type": "markdown",
      "metadata": {
        "id": "view-in-github",
        "colab_type": "text"
      },
      "source": [
        "<a href=\"https://colab.research.google.com/github/deborabmfreitas/algoritmo-depressao/blob/main/Refatorando_Algoritmo_de_depress%C3%A3o.ipynb\" target=\"_parent\"><img src=\"https://colab.research.google.com/assets/colab-badge.svg\" alt=\"Open In Colab\"/></a>"
      ]
    },
    {
      "cell_type": "code",
      "execution_count": null,
      "metadata": {
        "id": "GWc9WL-xnXFM"
      },
      "outputs": [],
      "source": [
        "from time import sleep\n",
        "import math\n",
        "\n",
        "#Contato inicial com o usuário\n",
        "nome = input('Olá, usuário! Informe o seu nome: ')\n",
        "sleep(2)\n",
        "print(f'Ok, {nome}! Escolha as opções abaixo de acordo com a frequência de cada resposta, ok?')\n",
        "sleep(2)\n",
        "print('\\n As opções de resposta vão de 1 a 5, sendo: \\n 1- Discordo totalmente \\n 2- Discordo em partes \\n 3- Concordo um pouco \\n 4- Concordo bastante \\n 5- Concordo plenamente')\n",
        "sleep(2)\n",
        "print(f'Serão 12 tópicos ok, {nome}? Responda o quanto você concorda!')\n",
        "sleep (2)\n",
        "\n",
        "#Início do questionário\n",
        "perguntas = ['1)Você tem vivido por tempo prolongado episódios de sono excessivo ou insônia [1-5]: ',\n",
        "             '2)Você tem sentido falta de energia para realizar suas atividades diárias [1-5]: ',\n",
        "             '3)Você tem passado por alterações de apetite como muita ou pouca fome [1-5]:',\n",
        "             '4)Perdeu o interesse em atividades que antes eram prazerosas [1-5]:',\n",
        "             '5)Sente constantemente sentimentos como irritabilidade, pessimismo, tristeza, angústia, desânimo ou medo [1-5]: ',\n",
        "             '6)Sente dificuldades em manter relações pessoais e socializar [1-5]: ',\n",
        "             '7)Não pratica nenhuma atividade física [1-5]: ',\n",
        "             '8)Não possui uma alimentação saudável [1-5]: ',\n",
        "             '9)Possui algum histórico de vício [1-5]: ',\n",
        "             '10)Possui algum histórico familiar de depressão [1-5]: ',\n",
        "             '11)Passou ou tem passado por traumas físicos ou psicológicos [1-5]: ',\n",
        "             '12)Tem dificuldades para se concentrar [1-5]: ']\n",
        "\n",
        "#Respostas do questionário\n",
        "respostas_lista = []\n",
        "for i in range(len(perguntas)):\n",
        "  resposta = int(input(perguntas[i]))\n",
        "  respostas_lista.append(resposta)\n",
        "\n",
        "  while resposta < 1 or resposta > 5:\n",
        "    print(int(input('Opção incorreta, tente um número de 1 a 5: ')))\n",
        "    break\n",
        "\n",
        "soma= sum(respostas_lista)\n",
        "sleep (2)\n",
        "\n",
        "#Resultados do questionário\n",
        "print(f'Você fez {soma} pontos!')\n",
        "sleep (2)\n",
        "if soma <20:\n",
        "  print(f'\\033[32mZona segura:\\033[0m Você parece estar em uma zona segura, mas sempre fique atento! ')\n",
        "if soma > 20 and soma < 36:\n",
        "  print('\\033[35mZona de atenção:\\033[0m Você não está na pontuação ideal, mas talvez algumas mudanças de hábito possam reverter a situação. Fique atento caso haja qualquer sinal suspeito! ')\n",
        "if soma > 36 and soma <45:\n",
        "  print('\\033[33mZona de cuidado:\\033[0m É importante ficar alerta, buscar acompanhamento e mudanças de hábito para evitar que evolua para um quadro grave de depressão. ')\n",
        "if soma >=45:\n",
        "  print(f'\\033[91mZona de perigo:\\033[0m Cuidado! Sua pontuação foi alta, {nome}. É importante buscar ajuda profissional. ')"
      ]
    }
  ]
}